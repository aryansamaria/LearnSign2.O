{
 "cells": [
  {
   "cell_type": "code",
   "execution_count": 1,
   "id": "1a235262-0c7d-47e4-b017-b81bdc692698",
   "metadata": {},
   "outputs": [],
   "source": [
    "import cv2\n",
    "import os\n",
    "import time\n",
    "import uuid"
   ]
  },
  {
   "cell_type": "code",
   "execution_count": 2,
   "id": "32d3ce39-e54a-41a1-813c-0c59c8704ecd",
   "metadata": {},
   "outputs": [],
   "source": [
    "Images_PATH = 'Tensorflow\\workspace\\image\\collectedimagescollectedimages'"
   ]
  },
  {
   "cell_type": "code",
   "execution_count": 3,
   "id": "1fc58aa6-1a02-4ac8-8049-017ceb06b878",
   "metadata": {},
   "outputs": [],
   "source": [
    "labels=['hello','thanks','yes','no','iloveyou']\n",
    "number_imag=5"
   ]
  },
  {
   "cell_type": "code",
   "execution_count": 4,
   "id": "3fadf2f4-de87-4d98-b06d-4d71b6cf83f6",
   "metadata": {},
   "outputs": [
    {
     "name": "stdout",
     "output_type": "stream",
     "text": [
      "Collecting images for hello\n",
      "Collecting images for thanks\n",
      "Collecting images for yes\n",
      "Collecting images for no\n",
      "Collecting images for iloveyou\n"
     ]
    }
   ],
   "source": [
    "for label in labels:\n",
    "    !mkdir {'Tensorflow\\workspace\\image\\collectedimages\\\\'+label}\n",
    "    cap=cv2.VideoCapture(0)\n",
    "    print('Collecting images for {}'.format(label))\n",
    "    time.sleep(5)\n",
    "    for imgnum in range(number_imag):\n",
    "        ret, frame = cap.read()\n",
    "        imagename = os.path.join(Images_PATH,label, label+'.'+'{}.jpg'.format(str(uuid.uuid1())))\n",
    "        cv2.imwrite(imagename,frame)\n",
    "        cv2.imshow('frame',frame)\n",
    "        time.sleep(2)\n",
    "\n",
    "        if cv2.waitKey(1) & 0xFF == ord('q'):\n",
    "            break\n",
    "            cap.release()"
   ]
  },
  {
   "cell_type": "code",
   "execution_count": null,
   "id": "4cd33426-541d-4723-8329-1e65eb308af3",
   "metadata": {},
   "outputs": [],
   "source": []
  }
 ],
 "metadata": {
  "kernelspec": {
   "display_name": "Python 3 (ipykernel)",
   "language": "python",
   "name": "python3"
  },
  "language_info": {
   "codemirror_mode": {
    "name": "ipython",
    "version": 3
   },
   "file_extension": ".py",
   "mimetype": "text/x-python",
   "name": "python",
   "nbconvert_exporter": "python",
   "pygments_lexer": "ipython3",
   "version": "3.9.0"
  }
 },
 "nbformat": 4,
 "nbformat_minor": 5
}
